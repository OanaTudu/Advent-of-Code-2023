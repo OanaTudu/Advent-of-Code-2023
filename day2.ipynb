{
 "cells": [
  {
   "cell_type": "markdown",
   "id": "ababc53a-9e89-4433-a6ad-84da96f79992",
   "metadata": {},
   "source": [
    "### --- Day 2: Cube Conundrum ---\n",
    "You're launched high into the atmosphere! The apex of your trajectory just barely reaches the surface of a large island floating in the sky. You gently land in a fluffy pile of leaves. It's quite cold, but you don't see much snow. An Elf runs over to greet you.\n",
    "\n",
    "The Elf explains that you've arrived at Snow Island and apologizes for the lack of snow. He'll be happy to explain the situation, but it's a bit of a walk, so you have some time. They don't get many visitors up here; would you like to play a game in the meantime?\n",
    "\n",
    "As you walk, the Elf shows you a small bag and some cubes which are either red, green, or blue. Each time you play this game, he will hide a secret number of cubes of each color in the bag, and your goal is to figure out information about the number of cubes.\n",
    "\n",
    "To get information, once a bag has been loaded with cubes, the Elf will reach into the bag, grab a handful of random cubes, show them to you, and then put them back in the bag. He'll do this a few times per game.\n",
    "\n",
    "You play several games and record the information from each game (your puzzle input). Each game is listed with its ID number (like the 11 in Game 11: ...) followed by a semicolon-separated list of subsets of cubes that were revealed from the bag (like 3 red, 5 green, 4 blue).\n",
    "\n",
    "For example, the record of a few games might look like this:\n",
    "\n",
    "Game 1: 3 blue, 4 red; 1 red, 2 green, 6 blue; 2 green\n",
    "Game 2: 1 blue, 2 green; 3 green, 4 blue, 1 red; 1 green, 1 blue\n",
    "Game 3: 8 green, 6 blue, 20 red; 5 blue, 4 red, 13 green; 5 green, 1 red\n",
    "Game 4: 1 green, 3 red, 6 blue; 3 green, 6 red; 3 green, 15 blue, 14 red\n",
    "Game 5: 6 red, 1 blue, 3 green; 2 blue, 1 red, 2 green\n",
    "In game 1, three sets of cubes are revealed from the bag (and then put back again). The first set is 3 blue cubes and 4 red cubes; the second set is 1 red cube, 2 green cubes, and 6 blue cubes; the third set is only 2 green cubes.\n",
    "\n",
    "The Elf would first like to know which games would have been possible if the bag contained only 12 red cubes, 13 green cubes, and 14 blue cubes?\n",
    "\n",
    "In the example above, games 1, 2, and 5 would have been possible if the bag had been loaded with that configuration. However, game 3 would have been impossible because at one point the Elf showed you 20 red cubes at once; similarly, game 4 would also have been impossible because the Elf showed you 15 blue cubes at once. If you add up the IDs of the games that would have been possible, you get 8.\n",
    "\n",
    "Determine which games would have been possible if the bag had been loaded with only 12 red cubes, 13 green cubes, and 14 blue cubes. What is the sum of the IDs of those games?\n",
    "\n"
   ]
  },
  {
   "cell_type": "code",
   "execution_count": 1,
   "id": "f7447397-2e95-4187-a525-6c21504bfd90",
   "metadata": {},
   "outputs": [],
   "source": [
    "import pandas as pd\n",
    "import math\n",
    "df = pd.read_fwf('day2.txt', header = None, names = ['input_vals'])"
   ]
  },
  {
   "cell_type": "code",
   "execution_count": 2,
   "id": "cfefd129-8ddc-42fa-8dfd-eff6abebc0ec",
   "metadata": {},
   "outputs": [
    {
     "data": {
      "text/html": [
       "<div>\n",
       "<style scoped>\n",
       "    .dataframe tbody tr th:only-of-type {\n",
       "        vertical-align: middle;\n",
       "    }\n",
       "\n",
       "    .dataframe tbody tr th {\n",
       "        vertical-align: top;\n",
       "    }\n",
       "\n",
       "    .dataframe thead th {\n",
       "        text-align: right;\n",
       "    }\n",
       "</style>\n",
       "<table border=\"1\" class=\"dataframe\">\n",
       "  <thead>\n",
       "    <tr style=\"text-align: right;\">\n",
       "      <th></th>\n",
       "      <th>input_vals</th>\n",
       "    </tr>\n",
       "  </thead>\n",
       "  <tbody>\n",
       "    <tr>\n",
       "      <th>Game</th>\n",
       "      <td>1: 9 red, 2 green, 13 blue; 10 blue, 2 green, ...</td>\n",
       "    </tr>\n",
       "    <tr>\n",
       "      <th>Game</th>\n",
       "      <td>2: 2 green, 2 blue, 16 red; 14 red; 13 red, 13...</td>\n",
       "    </tr>\n",
       "    <tr>\n",
       "      <th>Game</th>\n",
       "      <td>3: 6 red, 4 green, 7 blue; 7 blue, 9 red, 3 gr...</td>\n",
       "    </tr>\n",
       "    <tr>\n",
       "      <th>Game</th>\n",
       "      <td>4: 8 red, 2 green, 2 blue; 5 red, 2 blue, 3 gr...</td>\n",
       "    </tr>\n",
       "    <tr>\n",
       "      <th>Game</th>\n",
       "      <td>5: 12 blue, 6 red, 1 green; 10 green, 8 blue, ...</td>\n",
       "    </tr>\n",
       "  </tbody>\n",
       "</table>\n",
       "</div>"
      ],
      "text/plain": [
       "                                             input_vals\n",
       "Game  1: 9 red, 2 green, 13 blue; 10 blue, 2 green, ...\n",
       "Game  2: 2 green, 2 blue, 16 red; 14 red; 13 red, 13...\n",
       "Game  3: 6 red, 4 green, 7 blue; 7 blue, 9 red, 3 gr...\n",
       "Game  4: 8 red, 2 green, 2 blue; 5 red, 2 blue, 3 gr...\n",
       "Game  5: 12 blue, 6 red, 1 green; 10 green, 8 blue, ..."
      ]
     },
     "execution_count": 2,
     "metadata": {},
     "output_type": "execute_result"
    }
   ],
   "source": [
    "df.head()"
   ]
  },
  {
   "cell_type": "code",
   "execution_count": 23,
   "id": "78475aad-b688-45de-8a61-3acda67bc873",
   "metadata": {},
   "outputs": [
    {
     "data": {
      "text/plain": [
       "'51: 3 red, 3 blue, 2 green; 8 green, 5 red; 11 red, 11 green, 2 blue; 12 green, 2 blue, 19 red; 12 red, 1 blue, 12 green; 10 green, 1 blue, 3 red'"
      ]
     },
     "execution_count": 23,
     "metadata": {},
     "output_type": "execute_result"
    }
   ],
   "source": [
    "test = df['input_vals'].iloc[50]\n",
    "test"
   ]
  },
  {
   "cell_type": "code",
   "execution_count": 54,
   "id": "68244c2c-e781-4b90-a610-115c60dd1b8f",
   "metadata": {},
   "outputs": [],
   "source": [
    "def read_game(game):\n",
    "    '''Ingest each game and extract game ID, the number of subsets played, and the configuration of each subset'''\n",
    "    #game ID:\n",
    "    gameID = int(game.split(':')[0])\n",
    "    #number of subsets:\n",
    "    subsets = game.split(':')[1].split(';')\n",
    "    nrSubsets = len(subsets)\n",
    "    ss = []\n",
    "    \n",
    "    for subs in subsets: \n",
    "        sd = {}\n",
    "        for set in subs.split(','):\n",
    "            sd[set.split()[1]] = int(set.split()[0])\n",
    "        ss.append(sd)\n",
    "    return gameID, nrSubsets, ss"
   ]
  },
  {
   "cell_type": "code",
   "execution_count": 55,
   "id": "d396847f-9363-4713-a44a-2d7270af2e1f",
   "metadata": {},
   "outputs": [
    {
     "name": "stdout",
     "output_type": "stream",
     "text": [
      "[{'red': 9, 'green': 2, 'blue': 13}, {'blue': 10, 'green': 2, 'red': 13}, {'blue': 8, 'red': 3, 'green': 6}, {'green': 5, 'red': 2, 'blue': 1}]\n",
      "[{'green': 2, 'blue': 2, 'red': 16}, {'red': 14}, {'red': 13, 'green': 13, 'blue': 2}, {'red': 7, 'green': 7, 'blue': 2}]\n",
      "[{'red': 6, 'green': 4, 'blue': 7}, {'blue': 7, 'red': 9, 'green': 3}, {'red': 2, 'green': 4}, {'red': 6, 'blue': 2}, {'blue': 7, 'red': 9, 'green': 5}]\n",
      "[{'red': 8, 'green': 2, 'blue': 2}, {'red': 5, 'blue': 2, 'green': 3}, {'red': 7, 'green': 9, 'blue': 2}, {'blue': 10, 'green': 16, 'red': 1}, {'blue': 6, 'green': 1, 'red': 8}]\n",
      "[{'blue': 12, 'red': 6, 'green': 1}, {'green': 10, 'blue': 8, 'red': 15}, {'green': 1, 'red': 12, 'blue': 11}, {'green': 3, 'blue': 11, 'red': 1}, {'blue': 7, 'red': 5, 'green': 5}, {'green': 11, 'blue': 2}]\n",
      "[{'blue': 3, 'green': 10, 'red': 2}, {'green': 5}, {'blue': 6, 'red': 3}]\n",
      "[{'green': 3, 'blue': 1, 'red': 4}, {'red': 3, 'blue': 13}, {'blue': 14, 'red': 6}, {'green': 7, 'blue': 15, 'red': 9}, {'green': 1, 'red': 3, 'blue': 9}]\n",
      "[{'red': 19, 'green': 1, 'blue': 4}, {'blue': 14}, {'red': 2, 'blue': 3}]\n",
      "[{'green': 5, 'blue': 14, 'red': 3}, {'red': 8, 'blue': 16, 'green': 5}, {'green': 12, 'red': 15, 'blue': 4}, {'blue': 14, 'red': 17}, {'red': 6, 'blue': 11, 'green': 8}]\n",
      "[{'red': 9, 'blue': 7}, {'red': 6, 'blue': 3, 'green': 4}, {'red': 1, 'green': 5, 'blue': 3}, {'red': 5, 'green': 9, 'blue': 6}, {'blue': 7, 'green': 6}]\n"
     ]
    }
   ],
   "source": [
    "for g in df['input_vals'][0:10]:\n",
    "    id, ns, d = read_game(g)\n",
    "    print(d)"
   ]
  },
  {
   "cell_type": "code",
   "execution_count": null,
   "id": "0b223e6c-0a81-4e03-acb7-d0a69e3ad55c",
   "metadata": {},
   "outputs": [],
   "source": []
  }
 ],
 "metadata": {
  "kernelspec": {
   "display_name": "Python 3 (ipykernel)",
   "language": "python",
   "name": "python3"
  },
  "language_info": {
   "codemirror_mode": {
    "name": "ipython",
    "version": 3
   },
   "file_extension": ".py",
   "mimetype": "text/x-python",
   "name": "python",
   "nbconvert_exporter": "python",
   "pygments_lexer": "ipython3",
   "version": "3.12.0"
  }
 },
 "nbformat": 4,
 "nbformat_minor": 5
}
