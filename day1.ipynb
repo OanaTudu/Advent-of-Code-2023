{
 "cells": [
  {
   "cell_type": "markdown",
   "metadata": {},
   "source": [
    "#### --- Day 1: Trebuchet?! ---\n",
    "Something is wrong with global snow production, and you've been selected to take a look. The Elves have even given you a map; on it, they've used stars to mark the top fifty locations that are likely to be having problems.\n",
    "\n",
    "You've been doing this long enough to know that to restore snow operations, you need to check all fifty stars by December 25th.\n",
    "\n",
    "Collect stars by solving puzzles. Two puzzles will be made available on each day in the Advent calendar; the second puzzle is unlocked when you complete the first. Each puzzle grants one star. Good luck!\n",
    "\n",
    "You try to ask why they can't just use a weather machine (\"not powerful enough\") and where they're even sending you (\"the sky\") and why your map looks mostly blank (\"you sure ask a lot of questions\") and hang on did you just say the sky (\"of course, where do you think snow comes from\") when you realize that the Elves are already loading you into a trebuchet (\"please hold still, we need to strap you in\").\n",
    "\n",
    "As they're making the final adjustments, they discover that their calibration document (your puzzle input) has been amended by a very young Elf who was apparently just excited to show off her art skills. Consequently, the Elves are having trouble reading the values on the document.\n",
    "\n",
    "The newly-improved calibration document consists of lines of text; each line originally contained a specific calibration value that the Elves now need to recover. On each line, the calibration value can be found by combining the first digit and the last digit (in that order) to form a single two-digit number.\n",
    "\n",
    "For example:\n",
    "\n",
    "1abc2\n",
    "pqr3stu8vwx\n",
    "a1b2c3d4e5f\n",
    "treb7uchet\n",
    "In this example, the calibration values of these four lines are 12, 38, 15, and 77. Adding these together produces 142.\n",
    "\n",
    "Consider your entire calibration document. What is the sum of all of the calibration values?"
   ]
  },
  {
   "cell_type": "code",
   "execution_count": 1,
   "metadata": {},
   "outputs": [],
   "source": [
    "import pandas as pd\n",
    "import re\n",
    "df = pd.read_fwf('input1.txt', header = None, names = ['input_vals'])"
   ]
  },
  {
   "cell_type": "code",
   "execution_count": 2,
   "metadata": {},
   "outputs": [
    {
     "data": {
      "text/html": [
       "<div>\n",
       "<style scoped>\n",
       "    .dataframe tbody tr th:only-of-type {\n",
       "        vertical-align: middle;\n",
       "    }\n",
       "\n",
       "    .dataframe tbody tr th {\n",
       "        vertical-align: top;\n",
       "    }\n",
       "\n",
       "    .dataframe thead th {\n",
       "        text-align: right;\n",
       "    }\n",
       "</style>\n",
       "<table border=\"1\" class=\"dataframe\">\n",
       "  <thead>\n",
       "    <tr style=\"text-align: right;\">\n",
       "      <th></th>\n",
       "      <th>input_vals</th>\n",
       "    </tr>\n",
       "  </thead>\n",
       "  <tbody>\n",
       "    <tr>\n",
       "      <th>0</th>\n",
       "      <td>two934seven1</td>\n",
       "    </tr>\n",
       "    <tr>\n",
       "      <th>1</th>\n",
       "      <td>8825eightknfv</td>\n",
       "    </tr>\n",
       "    <tr>\n",
       "      <th>2</th>\n",
       "      <td>sevenoneqbfzntsix55</td>\n",
       "    </tr>\n",
       "    <tr>\n",
       "      <th>3</th>\n",
       "      <td>foursqpqvv192rdrbtcccfourone</td>\n",
       "    </tr>\n",
       "    <tr>\n",
       "      <th>4</th>\n",
       "      <td>9jpzhpxqthreelmrnlhfqmn4</td>\n",
       "    </tr>\n",
       "  </tbody>\n",
       "</table>\n",
       "</div>"
      ],
      "text/plain": [
       "                     input_vals\n",
       "0                  two934seven1\n",
       "1                 8825eightknfv\n",
       "2           sevenoneqbfzntsix55\n",
       "3  foursqpqvv192rdrbtcccfourone\n",
       "4      9jpzhpxqthreelmrnlhfqmn4"
      ]
     },
     "execution_count": 2,
     "metadata": {},
     "output_type": "execute_result"
    }
   ],
   "source": [
    "df.head()\n"
   ]
  },
  {
   "cell_type": "code",
   "execution_count": 3,
   "metadata": {},
   "outputs": [],
   "source": [
    "def extractNumber(input):\n",
    "    '''Takes a string and extracts every digit it encounters in order into a list,\n",
    "    then from this list creates an int out of the first and last digits'''\n",
    "    digs = [x for x in input if x.isdigit()]\n",
    "    output = int(digs[0])* 10 + int(digs[-1])\n",
    "    return output"
   ]
  },
  {
   "cell_type": "code",
   "execution_count": 4,
   "metadata": {},
   "outputs": [
    {
     "name": "stdout",
     "output_type": "stream",
     "text": [
      "52974\n"
     ]
    }
   ],
   "source": [
    "theSum = 0\n",
    "for a in df['input_vals']:\n",
    "    ints = extractNumber(a)\n",
    "    theSum += ints\n",
    "    #print(ints)\n",
    "\n",
    "print(theSum)"
   ]
  },
  {
   "cell_type": "markdown",
   "metadata": {},
   "source": [
    "#### --- Part Two ---\n",
    "Your calculation isn't quite right. It looks like some of the digits are actually spelled out with letters: one, two, three, four, five, six, seven, eight, and nine also count as valid \"digits\".\n",
    "\n",
    "Equipped with this new information, you now need to find the real first and last digit on each line. For example:\n",
    "\n",
    "two1nine\n",
    "eightwothree\n",
    "abcone2threexyz\n",
    "xtwone3four\n",
    "4nineeightseven2\n",
    "zoneight234\n",
    "7pqrstsixteen\n",
    "In this example, the calibration values are 29, 83, 13, 24, 42, 14, and 76. Adding these together produces 281.\n",
    "\n",
    "What is the sum of all of the calibration values?"
   ]
  },
  {
   "cell_type": "code",
   "execution_count": 5,
   "metadata": {},
   "outputs": [],
   "source": [
    "example = ['two1nine', 'eightwothree', 'abcone2threexyz', 'xtwone3four', '4nineeightseven2', 'zoneight234', '7pqrstsixteen']"
   ]
  },
  {
   "cell_type": "code",
   "execution_count": 6,
   "metadata": {},
   "outputs": [],
   "source": [
    "digitNames = { 'oneight': '18',\n",
    "    'twone': '21',\n",
    "    'threeight': '38',\n",
    "    'fiveight': '58',\n",
    "    'sevenine': '79',\n",
    "    'eightwo': '82',\n",
    "    'eighthree': '83',\n",
    "    'nineight': '98',\n",
    "    'one': '1', \n",
    "    'two': '2',\n",
    "    'three': '3',\n",
    "    'four': '4', \n",
    "    'five': '5', \n",
    "    'six': '6', \n",
    "    'seven': '7', \n",
    "    'eight': '8', \n",
    "    'nine': '9'}"
   ]
  },
  {
   "cell_type": "code",
   "execution_count": 28,
   "metadata": {},
   "outputs": [],
   "source": [
    "digitNames1 = {         \n",
    "    \n",
    "    'one': '1', \n",
    "    'two': '2',\n",
    "    'three': '3',\n",
    "    'four': '4', \n",
    "    'five': '5', \n",
    "    'six': '6', \n",
    "    'seven': '7', \n",
    "    'eight': '8', \n",
    "    'nine': '9'}"
   ]
  },
  {
   "cell_type": "code",
   "execution_count": 29,
   "metadata": {},
   "outputs": [],
   "source": [
    "digN = ['zero','one', 'two', 'three', 'four', 'five', 'six', 'seven', 'eight', 'nine', 'eleven', 'twelve', '0','1', '2', '3', '4', '5', '6', '7', '8', '9']"
   ]
  },
  {
   "cell_type": "code",
   "execution_count": 35,
   "metadata": {},
   "outputs": [],
   "source": [
    "def extractNumber1(input):\n",
    "    '''Get one string as input, extract the digits and digit words, and return the number formed by the first digit and the last digit in the string'''\n",
    "    words = []\n",
    "    #extract all the digits and digit words with their index in the string:\n",
    "    for n in digN:\n",
    "        res = [i.start() for i in re.finditer(n, input)]\n",
    "        if res:\n",
    "            words.append((n,res))\n",
    "        \n",
    "    #order the list of indices and extract the digit at the lowest index and the digit at the highest index\n",
    "    allIdx = []\n",
    "    for w in words: \n",
    "        allIdx.extend(w[1])\n",
    "    first = [x[0] for x in words if min(allIdx) in x[1]]\n",
    "    first = first[0]\n",
    "    if len(first)>1:\n",
    "        first = digitNames1[first]\n",
    "    last = [x[0] for x in words if max(allIdx) in x[1]]\n",
    "    last = last[0]\n",
    "    if len(last)>1:\n",
    "        last = digitNames1[last]\n",
    "    #form the number (first and last digits) for this string:\n",
    "    myNo = int(first+last)\n",
    "    return myNo\n"
   ]
  },
  {
   "cell_type": "code",
   "execution_count": 36,
   "metadata": {},
   "outputs": [],
   "source": [
    "total = 0\n",
    "for c in df['input_vals']:\n",
    "    total += extractNumber1(c)"
   ]
  },
  {
   "cell_type": "code",
   "execution_count": 37,
   "metadata": {},
   "outputs": [
    {
     "name": "stdout",
     "output_type": "stream",
     "text": [
      "53341\n"
     ]
    }
   ],
   "source": [
    "print(total)"
   ]
  },
  {
   "cell_type": "code",
   "execution_count": 38,
   "metadata": {},
   "outputs": [
    {
     "name": "stdout",
     "output_type": "stream",
     "text": [
      "53340\n"
     ]
    },
    {
     "name": "stderr",
     "output_type": "stream",
     "text": [
      "<>:4: SyntaxWarning: invalid escape sequence '\\d'\n",
      "<>:4: SyntaxWarning: invalid escape sequence '\\d'\n",
      "/var/folders/3f/jy298cy5549chzd4ljwy760m0000gn/T/ipykernel_35672/3814039072.py:4: SyntaxWarning: invalid escape sequence '\\d'\n",
      "  print(sum([int(digitNames1.get(v[0], v[0]) + digitNames1.get(v[-1], v[-1])) for v in [re.findall(f\"(?=(\\d|{'|'.join(digitNames1.keys())}))\", l) for l in f]]))\n"
     ]
    }
   ],
   "source": [
    "#play around with putting all this in just one line of code.\n",
    "\n",
    "with open(\"input1.txt\") as f:\n",
    "    print(sum([int(digitNames1.get(v[0], v[0]) + digitNames1.get(v[-1], v[-1])) for v in [re.findall(f\"(?=(\\d|{'|'.join(digitNames1.keys())}))\", l) for l in f]]))"
   ]
  },
  {
   "cell_type": "code",
   "execution_count": null,
   "metadata": {},
   "outputs": [],
   "source": []
  }
 ],
 "metadata": {
  "kernelspec": {
   "display_name": "Python 3 (ipykernel)",
   "language": "python",
   "name": "python3"
  },
  "language_info": {
   "codemirror_mode": {
    "name": "ipython",
    "version": 3
   },
   "file_extension": ".py",
   "mimetype": "text/x-python",
   "name": "python",
   "nbconvert_exporter": "python",
   "pygments_lexer": "ipython3",
   "version": "3.12.0"
  }
 },
 "nbformat": 4,
 "nbformat_minor": 4
}
