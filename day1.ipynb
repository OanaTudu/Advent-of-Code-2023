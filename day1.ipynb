{
 "cells": [
  {
   "cell_type": "markdown",
   "metadata": {},
   "source": [
    "#### --- Day 1: Trebuchet?! ---\n",
    "Something is wrong with global snow production, and you've been selected to take a look. The Elves have even given you a map; on it, they've used stars to mark the top fifty locations that are likely to be having problems.\n",
    "\n",
    "You've been doing this long enough to know that to restore snow operations, you need to check all fifty stars by December 25th.\n",
    "\n",
    "Collect stars by solving puzzles. Two puzzles will be made available on each day in the Advent calendar; the second puzzle is unlocked when you complete the first. Each puzzle grants one star. Good luck!\n",
    "\n",
    "You try to ask why they can't just use a weather machine (\"not powerful enough\") and where they're even sending you (\"the sky\") and why your map looks mostly blank (\"you sure ask a lot of questions\") and hang on did you just say the sky (\"of course, where do you think snow comes from\") when you realize that the Elves are already loading you into a trebuchet (\"please hold still, we need to strap you in\").\n",
    "\n",
    "As they're making the final adjustments, they discover that their calibration document (your puzzle input) has been amended by a very young Elf who was apparently just excited to show off her art skills. Consequently, the Elves are having trouble reading the values on the document.\n",
    "\n",
    "The newly-improved calibration document consists of lines of text; each line originally contained a specific calibration value that the Elves now need to recover. On each line, the calibration value can be found by combining the first digit and the last digit (in that order) to form a single two-digit number.\n",
    "\n",
    "For example:\n",
    "\n",
    "1abc2\n",
    "pqr3stu8vwx\n",
    "a1b2c3d4e5f\n",
    "treb7uchet\n",
    "In this example, the calibration values of these four lines are 12, 38, 15, and 77. Adding these together produces 142.\n",
    "\n",
    "Consider your entire calibration document. What is the sum of all of the calibration values?"
   ]
  },
  {
   "cell_type": "code",
   "execution_count": 4,
   "metadata": {},
   "outputs": [],
   "source": [
    "import pandas as pd\n",
    "import re\n",
    "df = pd.read_fwf('input1.txt', header = None, names = ['input_vals'])"
   ]
  },
  {
   "cell_type": "code",
   "execution_count": 14,
   "metadata": {},
   "outputs": [
    {
     "data": {
      "text/html": [
       "<div>\n",
       "<style scoped>\n",
       "    .dataframe tbody tr th:only-of-type {\n",
       "        vertical-align: middle;\n",
       "    }\n",
       "\n",
       "    .dataframe tbody tr th {\n",
       "        vertical-align: top;\n",
       "    }\n",
       "\n",
       "    .dataframe thead th {\n",
       "        text-align: right;\n",
       "    }\n",
       "</style>\n",
       "<table border=\"1\" class=\"dataframe\">\n",
       "  <thead>\n",
       "    <tr style=\"text-align: right;\">\n",
       "      <th></th>\n",
       "      <th>input_vals</th>\n",
       "    </tr>\n",
       "  </thead>\n",
       "  <tbody>\n",
       "    <tr>\n",
       "      <th>0</th>\n",
       "      <td>two934seven1</td>\n",
       "    </tr>\n",
       "    <tr>\n",
       "      <th>1</th>\n",
       "      <td>8825eightknfv</td>\n",
       "    </tr>\n",
       "    <tr>\n",
       "      <th>2</th>\n",
       "      <td>sevenoneqbfzntsix55</td>\n",
       "    </tr>\n",
       "    <tr>\n",
       "      <th>3</th>\n",
       "      <td>foursqpqvv192rdrbtcccfourone</td>\n",
       "    </tr>\n",
       "    <tr>\n",
       "      <th>4</th>\n",
       "      <td>9jpzhpxqthreelmrnlhfqmn4</td>\n",
       "    </tr>\n",
       "    <tr>\n",
       "      <th>5</th>\n",
       "      <td>onedpsckg3xdhmgtsixthreefivejlncszkxeight</td>\n",
       "    </tr>\n",
       "    <tr>\n",
       "      <th>6</th>\n",
       "      <td>4twofour</td>\n",
       "    </tr>\n",
       "    <tr>\n",
       "      <th>7</th>\n",
       "      <td>7eighttwo17fournsmrznntgjrdpkdjvx</td>\n",
       "    </tr>\n",
       "    <tr>\n",
       "      <th>8</th>\n",
       "      <td>573</td>\n",
       "    </tr>\n",
       "    <tr>\n",
       "      <th>9</th>\n",
       "      <td>ninethree3</td>\n",
       "    </tr>\n",
       "    <tr>\n",
       "      <th>10</th>\n",
       "      <td>3gngzkpkgrf</td>\n",
       "    </tr>\n",
       "    <tr>\n",
       "      <th>11</th>\n",
       "      <td>qeightwo2xjvfkfiveone</td>\n",
       "    </tr>\n",
       "    <tr>\n",
       "      <th>12</th>\n",
       "      <td>twoonej26</td>\n",
       "    </tr>\n",
       "    <tr>\n",
       "      <th>13</th>\n",
       "      <td>sgoneightfoureight5sevenjzsqghg</td>\n",
       "    </tr>\n",
       "    <tr>\n",
       "      <th>14</th>\n",
       "      <td>bnrb36xtjd7four9</td>\n",
       "    </tr>\n",
       "  </tbody>\n",
       "</table>\n",
       "</div>"
      ],
      "text/plain": [
       "                                   input_vals\n",
       "0                                two934seven1\n",
       "1                               8825eightknfv\n",
       "2                         sevenoneqbfzntsix55\n",
       "3                foursqpqvv192rdrbtcccfourone\n",
       "4                    9jpzhpxqthreelmrnlhfqmn4\n",
       "5   onedpsckg3xdhmgtsixthreefivejlncszkxeight\n",
       "6                                    4twofour\n",
       "7           7eighttwo17fournsmrznntgjrdpkdjvx\n",
       "8                                         573\n",
       "9                                  ninethree3\n",
       "10                                3gngzkpkgrf\n",
       "11                      qeightwo2xjvfkfiveone\n",
       "12                                  twoonej26\n",
       "13            sgoneightfoureight5sevenjzsqghg\n",
       "14                           bnrb36xtjd7four9"
      ]
     },
     "execution_count": 14,
     "metadata": {},
     "output_type": "execute_result"
    }
   ],
   "source": [
    "df.head(15)\n"
   ]
  },
  {
   "cell_type": "code",
   "execution_count": 15,
   "metadata": {},
   "outputs": [],
   "source": [
    "def extractNumber(input):\n",
    "    '''Takes a string and extracts every digit it encounters in order into a list,\n",
    "    then from this list creates an int out of the first and last digits'''\n",
    "    digs = [x for x in input if x.isdigit()]\n",
    "    output = int(digs[0])* 10 + int(digs[-1])\n",
    "    return output"
   ]
  },
  {
   "cell_type": "code",
   "execution_count": 19,
   "metadata": {},
   "outputs": [
    {
     "name": "stdout",
     "output_type": "stream",
     "text": [
      "52974\n"
     ]
    }
   ],
   "source": [
    "theSum = 0\n",
    "for a in df['input_vals']:\n",
    "    ints = extractNumber(a)\n",
    "    theSum += ints\n",
    "    #print(ints)\n",
    "\n",
    "print(theSum)"
   ]
  },
  {
   "cell_type": "markdown",
   "metadata": {},
   "source": [
    "#### --- Part Two ---\n",
    "Your calculation isn't quite right. It looks like some of the digits are actually spelled out with letters: one, two, three, four, five, six, seven, eight, and nine also count as valid \"digits\".\n",
    "\n",
    "Equipped with this new information, you now need to find the real first and last digit on each line. For example:\n",
    "\n",
    "two1nine\n",
    "eightwothree\n",
    "abcone2threexyz\n",
    "xtwone3four\n",
    "4nineeightseven2\n",
    "zoneight234\n",
    "7pqrstsixteen\n",
    "In this example, the calibration values are 29, 83, 13, 24, 42, 14, and 76. Adding these together produces 281.\n",
    "\n",
    "What is the sum of all of the calibration values?"
   ]
  },
  {
   "cell_type": "code",
   "execution_count": 23,
   "metadata": {},
   "outputs": [],
   "source": [
    "digitNames = {'one': '1', 'two': '2', 'three': '3', 'four': '4', 'five': '5', 'six': '6', 'seven': '7', 'eight': '8', 'nine': '9'}"
   ]
  },
  {
   "cell_type": "code",
   "execution_count": 32,
   "metadata": {},
   "outputs": [
    {
     "data": {
      "text/plain": [
       "0                                 two934seven1\n",
       "1                                8825eightknfv\n",
       "2                          sevenoneqbfzntsix55\n",
       "3                 foursqpqvv192rdrbtcccfourone\n",
       "4                     9jpzhpxqthreelmrnlhfqmn4\n",
       "5    onedpsckg3xdhmgtsixthreefivejlncszkxeight\n",
       "6                                     4twofour\n",
       "7            7eighttwo17fournsmrznntgjrdpkdjvx\n",
       "8                                          573\n",
       "9                                   ninethree3\n",
       "Name: input_vals, dtype: object"
      ]
     },
     "execution_count": 32,
     "metadata": {},
     "output_type": "execute_result"
    }
   ],
   "source": [
    "test = df['input_vals'][:10]\n",
    "test"
   ]
  },
  {
   "cell_type": "code",
   "execution_count": 35,
   "metadata": {},
   "outputs": [
    {
     "name": "stdout",
     "output_type": "stream",
     "text": [
      "52646\n"
     ]
    }
   ],
   "source": [
    "theSum = 0\n",
    "for a in df['input_vals']:\n",
    "    for key in digitNames.keys():\n",
    "        a = a.replace(key, digitNames[key])\n",
    "    #print(a)\n",
    "    ints = extractNumber(a)\n",
    "    #print(ints)\n",
    "    theSum += ints\n",
    "    \n",
    "\n",
    "print(theSum)"
   ]
  },
  {
   "cell_type": "code",
   "execution_count": null,
   "metadata": {},
   "outputs": [],
   "source": []
  }
 ],
 "metadata": {
  "kernelspec": {
   "display_name": "Python 3 (ipykernel)",
   "language": "python",
   "name": "python3"
  },
  "language_info": {
   "codemirror_mode": {
    "name": "ipython",
    "version": 3
   },
   "file_extension": ".py",
   "mimetype": "text/x-python",
   "name": "python",
   "nbconvert_exporter": "python",
   "pygments_lexer": "ipython3",
   "version": "3.12.0"
  }
 },
 "nbformat": 4,
 "nbformat_minor": 4
}
