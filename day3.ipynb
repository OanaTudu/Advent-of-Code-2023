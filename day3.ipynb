{
 "cells": [
  {
   "cell_type": "markdown",
   "id": "2837d78f-0ec7-40e0-bd6b-7e272cc56104",
   "metadata": {},
   "source": [
    "### --- Day 3: Gear Ratios ---\n",
    "You and the Elf eventually reach a gondola lift station; he says the gondola lift will take you up to the water source, but this is as far as he can bring you. You go inside.\n",
    "\n",
    "It doesn't take long to find the gondolas, but there seems to be a problem: they're not moving.\n",
    "\n",
    "\"Aaah!\"\n",
    "\n",
    "You turn around to see a slightly-greasy Elf with a wrench and a look of surprise. \"Sorry, I wasn't expecting anyone! The gondola lift isn't working right now; it'll still be a while before I can fix it.\" You offer to help.\n",
    "\n",
    "The engineer explains that an engine part seems to be missing from the engine, but nobody can figure out which one. If you can add up all the part numbers in the engine schematic, it should be easy to work out which part is missing.\n",
    "\n",
    "The engine schematic (your puzzle input) consists of a visual representation of the engine. There are lots of numbers and symbols you don't really understand, but apparently any number adjacent to a symbol, even diagonally, is a \"part number\" and should be included in your sum. (Periods (.) do not count as a symbol.)\n",
    "\n",
    "Here is an example engine schematic:\n",
    "\n",
    "467..114..\n",
    "\n",
    "...*......\n",
    "\n",
    "..35..633.\n",
    "\n",
    "......#...\n",
    "\n",
    "617*......\n",
    "\n",
    ".....+.58.\n",
    "\n",
    "..592.....\n",
    "\n",
    "......755.\n",
    "\n",
    "...$.*....\n",
    "\n",
    ".664.598..\n",
    "\n",
    "In this schematic, two numbers are not part numbers because they are not adjacent to a symbol: 114 (top right) and 58 (middle right). Every other number is adjacent to a symbol and so is a part number; their sum is 4361.\n",
    "\n",
    "Of course, the actual engine schematic is much larger. What is the sum of all of the part numbers in the engine schematic?"
   ]
  },
  {
   "cell_type": "code",
   "execution_count": null,
   "id": "a61da82b-eb48-44d7-b9f7-1f8275527202",
   "metadata": {},
   "outputs": [],
   "source": []
  }
 ],
 "metadata": {
  "kernelspec": {
   "display_name": "Python 3 (ipykernel)",
   "language": "python",
   "name": "python3"
  },
  "language_info": {
   "codemirror_mode": {
    "name": "ipython",
    "version": 3
   },
   "file_extension": ".py",
   "mimetype": "text/x-python",
   "name": "python",
   "nbconvert_exporter": "python",
   "pygments_lexer": "ipython3",
   "version": "3.12.0"
  }
 },
 "nbformat": 4,
 "nbformat_minor": 5
}
